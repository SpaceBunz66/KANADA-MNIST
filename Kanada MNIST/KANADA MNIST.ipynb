{
 "cells": [
  {
   "cell_type": "code",
   "execution_count": 1,
   "id": "a5f6a912",
   "metadata": {
    "execution": {
     "iopub.execute_input": "2023-01-19T08:40:48.901570Z",
     "iopub.status.busy": "2023-01-19T08:40:48.901073Z",
     "iopub.status.idle": "2023-01-19T08:41:00.443647Z",
     "shell.execute_reply": "2023-01-19T08:41:00.441712Z"
    },
    "papermill": {
     "duration": 11.554945,
     "end_time": "2023-01-19T08:41:00.448120",
     "exception": false,
     "start_time": "2023-01-19T08:40:48.893175",
     "status": "completed"
    },
    "tags": []
   },
   "outputs": [
    {
     "data": {
      "text/plain": [
       "(60000, 785)"
      ]
     },
     "execution_count": 1,
     "metadata": {},
     "output_type": "execute_result"
    }
   ],
   "source": [
    "import pandas as pd\n",
    "import tensorflow as tf\n",
    "from random import randint\n",
    "import numpy as np\n",
    "import matplotlib.pyplot as plt\n",
    "df = pd.read_csv(r\"/kaggle/input/Kannada-MNIST/train.csv\")\n",
    "df.shape"
   ]
  },
  {
   "cell_type": "markdown",
   "id": "a80b2eea",
   "metadata": {
    "papermill": {
     "duration": 0.006756,
     "end_time": "2023-01-19T08:41:00.461600",
     "exception": false,
     "start_time": "2023-01-19T08:41:00.454844",
     "status": "completed"
    },
    "tags": []
   },
   "source": [
    "### Labeling"
   ]
  },
  {
   "cell_type": "code",
   "execution_count": 2,
   "id": "e122f9ac",
   "metadata": {
    "execution": {
     "iopub.execute_input": "2023-01-19T08:41:00.476229Z",
     "iopub.status.busy": "2023-01-19T08:41:00.474991Z",
     "iopub.status.idle": "2023-01-19T08:41:00.672059Z",
     "shell.execute_reply": "2023-01-19T08:41:00.670670Z"
    },
    "papermill": {
     "duration": 0.206708,
     "end_time": "2023-01-19T08:41:00.675204",
     "exception": false,
     "start_time": "2023-01-19T08:41:00.468496",
     "status": "completed"
    },
    "tags": []
   },
   "outputs": [
    {
     "data": {
      "text/plain": [
       "((60000, 1), (60000, 784), (60000, 785))"
      ]
     },
     "execution_count": 2,
     "metadata": {},
     "output_type": "execute_result"
    }
   ],
   "source": [
    "x_df = df.drop(labels='label',axis=1)\n",
    "y_df = df[['label']]\n",
    "y_df.shape,x_df.shape,df.shape"
   ]
  },
  {
   "cell_type": "markdown",
   "id": "4f58fb3f",
   "metadata": {
    "papermill": {
     "duration": 0.005163,
     "end_time": "2023-01-19T08:41:00.685905",
     "exception": false,
     "start_time": "2023-01-19T08:41:00.680742",
     "status": "completed"
    },
    "tags": []
   },
   "source": [
    "### Visualization"
   ]
  },
  {
   "cell_type": "code",
   "execution_count": 3,
   "id": "66ef7447",
   "metadata": {
    "execution": {
     "iopub.execute_input": "2023-01-19T08:41:00.697740Z",
     "iopub.status.busy": "2023-01-19T08:41:00.696872Z",
     "iopub.status.idle": "2023-01-19T08:41:00.882024Z",
     "shell.execute_reply": "2023-01-19T08:41:00.880448Z"
    },
    "papermill": {
     "duration": 0.194122,
     "end_time": "2023-01-19T08:41:00.884995",
     "exception": false,
     "start_time": "2023-01-19T08:41:00.690873",
     "status": "completed"
    },
    "tags": []
   },
   "outputs": [
    {
     "data": {
      "image/png": "[encoded data removed]",
      "text/plain": [
       "<Figure size 432x288 with 1 Axes>"
      ]
     },
     "metadata": {
      "needs_background": "light"
     },
     "output_type": "display_data"
    }
   ],
   "source": [
    "rand = randint(0,300)\n",
    "pixels = np.array(x_df.iloc[rand],dtype='uint8')\n",
    "pixels = pixels.reshape((28, 28))\n",
    "plt.title('Label is {label}'.format(label=y_df.iloc[rand]))\n",
    "plt.imshow(pixels, cmap='gray')\n",
    "plt.show()"
   ]
  },
  {
   "cell_type": "markdown",
   "id": "4bbf68dd",
   "metadata": {
    "papermill": {
     "duration": 0.0046,
     "end_time": "2023-01-19T08:41:00.894699",
     "exception": false,
     "start_time": "2023-01-19T08:41:00.890099",
     "status": "completed"
    },
    "tags": []
   },
   "source": [
    "### Train-test split"
   ]
  },
  {
   "cell_type": "code",
   "execution_count": 4,
   "id": "87401e97",
   "metadata": {
    "execution": {
     "iopub.execute_input": "2023-01-19T08:41:00.907430Z",
     "iopub.status.busy": "2023-01-19T08:41:00.906136Z",
     "iopub.status.idle": "2023-01-19T08:41:02.294017Z",
     "shell.execute_reply": "2023-01-19T08:41:02.292531Z"
    },
    "papermill": {
     "duration": 1.397445,
     "end_time": "2023-01-19T08:41:02.297019",
     "exception": false,
     "start_time": "2023-01-19T08:41:00.899574",
     "status": "completed"
    },
    "tags": []
   },
   "outputs": [],
   "source": [
    "from sklearn.model_selection import train_test_split\n",
    "\n",
    "x_train,x_test,y_train,y_test = train_test_split(x_df,y_df,train_size=0.2)"
   ]
  },
  {
   "cell_type": "code",
   "execution_count": 5,
   "id": "56bf8e86",
   "metadata": {
    "execution": {
     "iopub.execute_input": "2023-01-19T08:41:02.309619Z",
     "iopub.status.busy": "2023-01-19T08:41:02.308664Z",
     "iopub.status.idle": "2023-01-19T08:41:02.317076Z",
     "shell.execute_reply": "2023-01-19T08:41:02.315662Z"
    },
    "papermill": {
     "duration": 0.018514,
     "end_time": "2023-01-19T08:41:02.320561",
     "exception": false,
     "start_time": "2023-01-19T08:41:02.302047",
     "status": "completed"
    },
    "tags": []
   },
   "outputs": [
    {
     "data": {
      "text/plain": [
       "((12000, 784), (48000, 784), (12000, 1), (48000, 1))"
      ]
     },
     "execution_count": 5,
     "metadata": {},
     "output_type": "execute_result"
    }
   ],
   "source": [
    "x_train.shape,x_test.shape,y_train.shape,y_test.shape"
   ]
  },
  {
   "cell_type": "markdown",
   "id": "ceac8063",
   "metadata": {
    "papermill": {
     "duration": 0.00466,
     "end_time": "2023-01-19T08:41:02.330321",
     "exception": false,
     "start_time": "2023-01-19T08:41:02.325661",
     "status": "completed"
    },
    "tags": []
   },
   "source": [
    "### Model"
   ]
  },
  {
   "cell_type": "code",
   "execution_count": 6,
   "id": "9e7cafb3",
   "metadata": {
    "execution": {
     "iopub.execute_input": "2023-01-19T08:41:02.343019Z",
     "iopub.status.busy": "2023-01-19T08:41:02.341858Z",
     "iopub.status.idle": "2023-01-19T08:43:30.889948Z",
     "shell.execute_reply": "2023-01-19T08:43:30.888465Z"
    },
    "papermill": {
     "duration": 148.558121,
     "end_time": "2023-01-19T08:43:30.893338",
     "exception": false,
     "start_time": "2023-01-19T08:41:02.335217",
     "status": "completed"
    },
    "tags": []
   },
   "outputs": [
    {
     "name": "stderr",
     "output_type": "stream",
     "text": [
      "2023-01-19 08:41:03.809777: I tensorflow/core/common_runtime/process_util.cc:146] Creating new thread pool with default inter op setting: 2. Tune using inter_op_parallelism_threads for best performance.\n",
      "2023-01-19 08:41:04.153312: I tensorflow/compiler/mlir/mlir_graph_optimization_pass.cc:185] None of the MLIR Optimization Passes are enabled (registered 2)\n"
     ]
    },
    {
     "name": "stdout",
     "output_type": "stream",
     "text": [
      "Epoch 1/100\n",
      "375/375 [==============================] - 2s 5ms/step - loss: 3.5277 - accuracy: 0.8638\n",
      "Epoch 2/100\n",
      "375/375 [==============================] - 1s 4ms/step - loss: 0.5277 - accuracy: 0.9494\n",
      "Epoch 3/100\n",
      "375/375 [==============================] - 1s 3ms/step - loss: 0.3089 - accuracy: 0.9668\n",
      "Epoch 4/100\n",
      "375/375 [==============================] - 1s 3ms/step - loss: 0.2425 - accuracy: 0.9724\n",
      "Epoch 5/100\n",
      "375/375 [==============================] - 1s 4ms/step - loss: 0.2236 - accuracy: 0.9749\n",
      "Epoch 6/100\n",
      "375/375 [==============================] - 1s 4ms/step - loss: 0.1857 - accuracy: 0.9778\n",
      "Epoch 7/100\n",
      "375/375 [==============================] - 1s 3ms/step - loss: 0.2522 - accuracy: 0.9760\n",
      "Epoch 8/100\n",
      "375/375 [==============================] - 1s 3ms/step - loss: 0.1573 - accuracy: 0.9830\n",
      "Epoch 9/100\n",
      "375/375 [==============================] - 1s 4ms/step - loss: 0.1159 - accuracy: 0.9860\n",
      "Epoch 10/100\n",
      "375/375 [==============================] - 1s 4ms/step - loss: 0.1297 - accuracy: 0.9858\n",
      "Epoch 11/100\n",
      "375/375 [==============================] - 1s 3ms/step - loss: 0.1643 - accuracy: 0.9821\n",
      "Epoch 12/100\n",
      "375/375 [==============================] - 1s 3ms/step - loss: 0.1817 - accuracy: 0.9820\n",
      "Epoch 13/100\n",
      "375/375 [==============================] - 1s 4ms/step - loss: 0.1109 - accuracy: 0.9873\n",
      "Epoch 14/100\n",
      "375/375 [==============================] - 1s 4ms/step - loss: 0.1203 - accuracy: 0.9863\n",
      "Epoch 15/100\n",
      "375/375 [==============================] - 1s 4ms/step - loss: 0.1078 - accuracy: 0.9877\n",
      "Epoch 16/100\n",
      "375/375 [==============================] - 1s 4ms/step - loss: 0.1125 - accuracy: 0.9879\n",
      "Epoch 17/100\n",
      "375/375 [==============================] - 1s 3ms/step - loss: 0.0764 - accuracy: 0.9913\n",
      "Epoch 18/100\n",
      "375/375 [==============================] - 1s 4ms/step - loss: 0.0689 - accuracy: 0.9910\n",
      "Epoch 19/100\n",
      "375/375 [==============================] - 1s 3ms/step - loss: 0.0735 - accuracy: 0.9915\n",
      "Epoch 20/100\n",
      "375/375 [==============================] - 1s 4ms/step - loss: 0.1159 - accuracy: 0.9884\n",
      "Epoch 21/100\n",
      "375/375 [==============================] - 1s 4ms/step - loss: 0.1324 - accuracy: 0.9872\n",
      "Epoch 22/100\n",
      "375/375 [==============================] - 1s 4ms/step - loss: 0.0721 - accuracy: 0.9927\n",
      "Epoch 23/100\n",
      "375/375 [==============================] - 1s 4ms/step - loss: 0.0398 - accuracy: 0.9947\n",
      "Epoch 24/100\n",
      "375/375 [==============================] - 1s 4ms/step - loss: 0.1023 - accuracy: 0.9923\n",
      "Epoch 25/100\n",
      "375/375 [==============================] - 2s 4ms/step - loss: 0.0621 - accuracy: 0.9927\n",
      "Epoch 26/100\n",
      "375/375 [==============================] - 1s 4ms/step - loss: 0.1250 - accuracy: 0.9895\n",
      "Epoch 27/100\n",
      "375/375 [==============================] - 1s 4ms/step - loss: 0.0583 - accuracy: 0.9936\n",
      "Epoch 28/100\n",
      "375/375 [==============================] - 1s 4ms/step - loss: 0.0542 - accuracy: 0.9940\n",
      "Epoch 29/100\n",
      "375/375 [==============================] - 1s 4ms/step - loss: 0.0326 - accuracy: 0.9958\n",
      "Epoch 30/100\n",
      "375/375 [==============================] - 1s 4ms/step - loss: 0.0247 - accuracy: 0.9963\n",
      "Epoch 31/100\n",
      "375/375 [==============================] - 2s 4ms/step - loss: 0.0321 - accuracy: 0.9966\n",
      "Epoch 32/100\n",
      "375/375 [==============================] - 2s 4ms/step - loss: 0.0750 - accuracy: 0.9940\n",
      "Epoch 33/100\n",
      "375/375 [==============================] - 2s 4ms/step - loss: 0.1297 - accuracy: 0.9894\n",
      "Epoch 34/100\n",
      "375/375 [==============================] - 1s 4ms/step - loss: 0.0568 - accuracy: 0.9938\n",
      "Epoch 35/100\n",
      "375/375 [==============================] - 2s 4ms/step - loss: 0.0375 - accuracy: 0.9959\n",
      "Epoch 36/100\n",
      "375/375 [==============================] - 2s 4ms/step - loss: 0.0242 - accuracy: 0.9972\n",
      "Epoch 37/100\n",
      "375/375 [==============================] - 1s 4ms/step - loss: 0.0250 - accuracy: 0.9964\n",
      "Epoch 38/100\n",
      "375/375 [==============================] - 1s 4ms/step - loss: 0.0524 - accuracy: 0.9948\n",
      "Epoch 39/100\n",
      "375/375 [==============================] - 1s 4ms/step - loss: 0.0724 - accuracy: 0.9935\n",
      "Epoch 40/100\n",
      "375/375 [==============================] - 1s 4ms/step - loss: 0.0936 - accuracy: 0.9921\n",
      "Epoch 41/100\n",
      "375/375 [==============================] - 1s 4ms/step - loss: 0.0437 - accuracy: 0.9959\n",
      "Epoch 42/100\n",
      "375/375 [==============================] - 1s 4ms/step - loss: 0.0777 - accuracy: 0.9946\n",
      "Epoch 43/100\n",
      "375/375 [==============================] - 1s 3ms/step - loss: 0.0404 - accuracy: 0.9962\n",
      "Epoch 44/100\n",
      "375/375 [==============================] - 1s 3ms/step - loss: 0.0517 - accuracy: 0.9950\n",
      "Epoch 45/100\n",
      "375/375 [==============================] - 1s 4ms/step - loss: 0.0165 - accuracy: 0.9974\n",
      "Epoch 46/100\n",
      "375/375 [==============================] - 2s 4ms/step - loss: 0.0230 - accuracy: 0.9971\n",
      "Epoch 47/100\n",
      "375/375 [==============================] - 1s 3ms/step - loss: 0.0392 - accuracy: 0.9962\n",
      "Epoch 48/100\n",
      "375/375 [==============================] - 1s 3ms/step - loss: 0.0835 - accuracy: 0.9953\n",
      "Epoch 49/100\n",
      "375/375 [==============================] - 1s 3ms/step - loss: 0.0250 - accuracy: 0.9962\n",
      "Epoch 50/100\n",
      "375/375 [==============================] - 1s 3ms/step - loss: 0.0147 - accuracy: 0.9974\n",
      "Epoch 51/100\n",
      "375/375 [==============================] - 1s 4ms/step - loss: 0.1726 - accuracy: 0.9942\n",
      "Epoch 52/100\n",
      "375/375 [==============================] - 1s 3ms/step - loss: 0.1172 - accuracy: 0.9923\n",
      "Epoch 53/100\n",
      "375/375 [==============================] - 1s 4ms/step - loss: 0.0417 - accuracy: 0.9959\n",
      "Epoch 54/100\n",
      "375/375 [==============================] - 1s 3ms/step - loss: 0.0341 - accuracy: 0.9979\n",
      "Epoch 55/100\n",
      "375/375 [==============================] - 1s 3ms/step - loss: 0.0218 - accuracy: 0.9973\n",
      "Epoch 56/100\n",
      "375/375 [==============================] - 1s 3ms/step - loss: 0.0489 - accuracy: 0.9967\n",
      "Epoch 57/100\n",
      "375/375 [==============================] - 1s 3ms/step - loss: 0.0554 - accuracy: 0.9958\n",
      "Epoch 58/100\n",
      "375/375 [==============================] - 1s 3ms/step - loss: 0.0312 - accuracy: 0.9969\n",
      "Epoch 59/100\n",
      "375/375 [==============================] - 1s 3ms/step - loss: 0.0108 - accuracy: 0.9986\n",
      "Epoch 60/100\n",
      "375/375 [==============================] - 1s 3ms/step - loss: 0.0042 - accuracy: 0.9992\n",
      "Epoch 61/100\n",
      "375/375 [==============================] - 1s 3ms/step - loss: 0.0203 - accuracy: 0.9980\n",
      "Epoch 62/100\n",
      "375/375 [==============================] - 1s 3ms/step - loss: 0.0435 - accuracy: 0.9970\n",
      "Epoch 63/100\n",
      "375/375 [==============================] - 1s 3ms/step - loss: 0.0750 - accuracy: 0.9945\n",
      "Epoch 64/100\n",
      "375/375 [==============================] - 1s 4ms/step - loss: 0.0334 - accuracy: 0.9970\n",
      "Epoch 65/100\n",
      "375/375 [==============================] - 1s 3ms/step - loss: 0.0420 - accuracy: 0.9973\n",
      "Epoch 66/100\n",
      "375/375 [==============================] - 1s 3ms/step - loss: 0.0295 - accuracy: 0.9977\n",
      "Epoch 67/100\n",
      "375/375 [==============================] - 1s 3ms/step - loss: 0.0364 - accuracy: 0.9977\n",
      "Epoch 68/100\n",
      "375/375 [==============================] - 1s 3ms/step - loss: 0.0523 - accuracy: 0.9965\n",
      "Epoch 69/100\n",
      "375/375 [==============================] - 1s 3ms/step - loss: 0.0818 - accuracy: 0.9946\n",
      "Epoch 70/100\n",
      "375/375 [==============================] - 2s 5ms/step - loss: 0.0317 - accuracy: 0.9976\n",
      "Epoch 71/100\n",
      "375/375 [==============================] - 1s 4ms/step - loss: 0.0184 - accuracy: 0.9986\n",
      "Epoch 72/100\n",
      "375/375 [==============================] - 1s 3ms/step - loss: 0.0125 - accuracy: 0.9988\n",
      "Epoch 73/100\n",
      "375/375 [==============================] - 1s 3ms/step - loss: 0.0183 - accuracy: 0.9983\n",
      "Epoch 74/100\n",
      "375/375 [==============================] - 1s 4ms/step - loss: 0.0520 - accuracy: 0.9974\n",
      "Epoch 75/100\n",
      "375/375 [==============================] - 1s 3ms/step - loss: 0.0448 - accuracy: 0.9970\n",
      "Epoch 76/100\n",
      "375/375 [==============================] - 1s 4ms/step - loss: 0.0640 - accuracy: 0.9972\n",
      "Epoch 77/100\n",
      "375/375 [==============================] - 1s 3ms/step - loss: 0.0467 - accuracy: 0.9973\n",
      "Epoch 78/100\n",
      "375/375 [==============================] - 1s 3ms/step - loss: 0.0377 - accuracy: 0.9978\n",
      "Epoch 79/100\n",
      "375/375 [==============================] - 1s 3ms/step - loss: 0.0275 - accuracy: 0.9978\n",
      "Epoch 80/100\n",
      "375/375 [==============================] - 1s 4ms/step - loss: 0.0134 - accuracy: 0.9985\n",
      "Epoch 81/100\n",
      "375/375 [==============================] - 1s 4ms/step - loss: 1.7945e-04 - accuracy: 0.9999\n",
      "Epoch 82/100\n",
      "375/375 [==============================] - 1s 3ms/step - loss: 1.0142e-04 - accuracy: 0.9999\n",
      "Epoch 83/100\n",
      "375/375 [==============================] - 1s 3ms/step - loss: 3.5593e-04 - accuracy: 0.9999\n",
      "Epoch 84/100\n",
      "375/375 [==============================] - 1s 3ms/step - loss: 0.0043 - accuracy: 0.9994\n",
      "Epoch 85/100\n",
      "375/375 [==============================] - 1s 4ms/step - loss: 0.0640 - accuracy: 0.9954\n",
      "Epoch 86/100\n",
      "375/375 [==============================] - 1s 4ms/step - loss: 0.0718 - accuracy: 0.9951\n",
      "Epoch 87/100\n",
      "375/375 [==============================] - 1s 4ms/step - loss: 0.0491 - accuracy: 0.9968\n",
      "Epoch 88/100\n",
      "375/375 [==============================] - 1s 4ms/step - loss: 0.0610 - accuracy: 0.9968\n",
      "Epoch 89/100\n",
      "375/375 [==============================] - 1s 3ms/step - loss: 0.0434 - accuracy: 0.9977\n",
      "Epoch 90/100\n",
      "375/375 [==============================] - 1s 3ms/step - loss: 0.0207 - accuracy: 0.9987\n",
      "Epoch 91/100\n",
      "375/375 [==============================] - 1s 4ms/step - loss: 0.0060 - accuracy: 0.9995\n",
      "Epoch 92/100\n",
      "375/375 [==============================] - 1s 4ms/step - loss: 0.0294 - accuracy: 0.9977\n",
      "Epoch 93/100\n",
      "375/375 [==============================] - 1s 3ms/step - loss: 0.0430 - accuracy: 0.9979\n",
      "Epoch 94/100\n",
      "375/375 [==============================] - 2s 5ms/step - loss: 0.0219 - accuracy: 0.9987\n",
      "Epoch 95/100\n",
      "375/375 [==============================] - 1s 3ms/step - loss: 0.0425 - accuracy: 0.9980\n",
      "Epoch 96/100\n",
      "375/375 [==============================] - 1s 4ms/step - loss: 0.0163 - accuracy: 0.9986\n",
      "Epoch 97/100\n",
      "375/375 [==============================] - 1s 4ms/step - loss: 0.0327 - accuracy: 0.9986\n",
      "Epoch 98/100\n",
      "375/375 [==============================] - 1s 4ms/step - loss: 0.0349 - accuracy: 0.9987\n",
      "Epoch 99/100\n",
      "375/375 [==============================] - 1s 4ms/step - loss: 0.0345 - accuracy: 0.9981\n",
      "Epoch 100/100\n",
      "375/375 [==============================] - 1s 4ms/step - loss: 0.0378 - accuracy: 0.9976\n",
      "1500/1500 [==============================] - 4s 2ms/step - loss: 1.4058 - accuracy: 0.9762\n",
      "0.9762083292007446\n",
      "1.405774712562561\n"
     ]
    }
   ],
   "source": [
    "model = tf.keras.models.Sequential()\n",
    "model.add(tf.keras.layers.Flatten(input_shape=(784,)))\n",
    "model.add(tf.keras.layers.Dense(units=128,activation=tf.nn.relu))\n",
    "model.add(tf.keras.layers.Dense(units=128,activation=tf.nn.relu))\n",
    "model.add(tf.keras.layers.Dense(units=10,activation=tf.nn.softmax))\n",
    "\n",
    "model.compile(optimizer='adam',loss='sparse_categorical_crossentropy', metrics=['accuracy'])\n",
    "\n",
    "model.fit(x_train, y_train, epochs = 100)\n",
    "loss, accuracy = model.evaluate(x_test, y_test)\n",
    "print(accuracy)\n",
    "print(loss)"
   ]
  },
  {
   "cell_type": "markdown",
   "id": "e6f5f0fa",
   "metadata": {
    "papermill": {
     "duration": 0.180658,
     "end_time": "2023-01-19T08:43:31.254988",
     "exception": false,
     "start_time": "2023-01-19T08:43:31.074330",
     "status": "completed"
    },
    "tags": []
   },
   "source": [
    "### Submission"
   ]
  },
  {
   "cell_type": "code",
   "execution_count": 7,
   "id": "41a15722",
   "metadata": {
    "execution": {
     "iopub.execute_input": "2023-01-19T08:43:31.626944Z",
     "iopub.status.busy": "2023-01-19T08:43:31.626431Z",
     "iopub.status.idle": "2023-01-19T08:43:32.041435Z",
     "shell.execute_reply": "2023-01-19T08:43:32.039338Z"
    },
    "papermill": {
     "duration": 0.604098,
     "end_time": "2023-01-19T08:43:32.044653",
     "exception": false,
     "start_time": "2023-01-19T08:43:31.440555",
     "status": "completed"
    },
    "tags": []
   },
   "outputs": [],
   "source": [
    "sample_submit = pd.read_csv(\"/kaggle/input/Kannada-MNIST/sample_submission.csv\")\n",
    "real_test = pd.read_csv(\"/kaggle/input/Kannada-MNIST/test.csv\")"
   ]
  },
  {
   "cell_type": "code",
   "execution_count": 8,
   "id": "4df4ac63",
   "metadata": {
    "execution": {
     "iopub.execute_input": "2023-01-19T08:43:32.489785Z",
     "iopub.status.busy": "2023-01-19T08:43:32.489203Z",
     "iopub.status.idle": "2023-01-19T08:43:32.509559Z",
     "shell.execute_reply": "2023-01-19T08:43:32.507641Z"
    },
    "papermill": {
     "duration": 0.209025,
     "end_time": "2023-01-19T08:43:32.513510",
     "exception": false,
     "start_time": "2023-01-19T08:43:32.304485",
     "status": "completed"
    },
    "tags": []
   },
   "outputs": [],
   "source": [
    "real_test = real_test.iloc[:, 1:].to_numpy()\n",
    "real_test = real_test/255\n",
    "real_test = real_test.astype(\"float32\")\n",
    "real_test = real_test.reshape(-1, 28, 28, 1)"
   ]
  },
  {
   "cell_type": "code",
   "execution_count": 9,
   "id": "1300f171",
   "metadata": {
    "execution": {
     "iopub.execute_input": "2023-01-19T08:43:32.883546Z",
     "iopub.status.busy": "2023-01-19T08:43:32.882602Z",
     "iopub.status.idle": "2023-01-19T08:43:33.276580Z",
     "shell.execute_reply": "2023-01-19T08:43:33.275201Z"
    },
    "papermill": {
     "duration": 0.583054,
     "end_time": "2023-01-19T08:43:33.279538",
     "exception": false,
     "start_time": "2023-01-19T08:43:32.696484",
     "status": "completed"
    },
    "tags": []
   },
   "outputs": [],
   "source": [
    "prediction = model.predict(real_test)\n",
    "\n",
    "prediction = prediction.argmax(axis = 1)"
   ]
  },
  {
   "cell_type": "code",
   "execution_count": 10,
   "id": "15628854",
   "metadata": {
    "execution": {
     "iopub.execute_input": "2023-01-19T08:43:33.642293Z",
     "iopub.status.busy": "2023-01-19T08:43:33.641497Z",
     "iopub.status.idle": "2023-01-19T08:43:33.657475Z",
     "shell.execute_reply": "2023-01-19T08:43:33.656135Z"
    },
    "papermill": {
     "duration": 0.199379,
     "end_time": "2023-01-19T08:43:33.660048",
     "exception": false,
     "start_time": "2023-01-19T08:43:33.460669",
     "status": "completed"
    },
    "tags": []
   },
   "outputs": [
    {
     "data": {
      "text/html": [
       "<div>\n",
       "<style scoped>\n",
       "    .dataframe tbody tr th:only-of-type {\n",
       "        vertical-align: middle;\n",
       "    }\n",
       "\n",
       "    .dataframe tbody tr th {\n",
       "        vertical-align: top;\n",
       "    }\n",
       "\n",
       "    .dataframe thead th {\n",
       "        text-align: right;\n",
       "    }\n",
       "</style>\n",
       "<table border=\"1\" class=\"dataframe\">\n",
       "  <thead>\n",
       "    <tr style=\"text-align: right;\">\n",
       "      <th></th>\n",
       "      <th>id</th>\n",
       "      <th>label</th>\n",
       "    </tr>\n",
       "  </thead>\n",
       "  <tbody>\n",
       "    <tr>\n",
       "      <th>0</th>\n",
       "      <td>0</td>\n",
       "      <td>3</td>\n",
       "    </tr>\n",
       "    <tr>\n",
       "      <th>1</th>\n",
       "      <td>1</td>\n",
       "      <td>0</td>\n",
       "    </tr>\n",
       "    <tr>\n",
       "      <th>2</th>\n",
       "      <td>2</td>\n",
       "      <td>2</td>\n",
       "    </tr>\n",
       "    <tr>\n",
       "      <th>3</th>\n",
       "      <td>3</td>\n",
       "      <td>6</td>\n",
       "    </tr>\n",
       "    <tr>\n",
       "      <th>4</th>\n",
       "      <td>4</td>\n",
       "      <td>6</td>\n",
       "    </tr>\n",
       "  </tbody>\n",
       "</table>\n",
       "</div>"
      ],
      "text/plain": [
       "   id  label\n",
       "0   0      3\n",
       "1   1      0\n",
       "2   2      2\n",
       "3   3      6\n",
       "4   4      6"
      ]
     },
     "execution_count": 10,
     "metadata": {},
     "output_type": "execute_result"
    }
   ],
   "source": [
    "sample_submit[\"label\"] = prediction\n",
    "sample_submit.head()"
   ]
  },
  {
   "cell_type": "code",
   "execution_count": 11,
   "id": "740e0bd9",
   "metadata": {
    "execution": {
     "iopub.execute_input": "2023-01-19T08:43:34.033655Z",
     "iopub.status.busy": "2023-01-19T08:43:34.033268Z",
     "iopub.status.idle": "2023-01-19T08:43:34.046654Z",
     "shell.execute_reply": "2023-01-19T08:43:34.045647Z"
    },
    "papermill": {
     "duration": 0.201652,
     "end_time": "2023-01-19T08:43:34.049423",
     "exception": false,
     "start_time": "2023-01-19T08:43:33.847771",
     "status": "completed"
    },
    "tags": []
   },
   "outputs": [],
   "source": [
    "sample_submit.to_csv(\"submission.csv\", index = False)"
   ]
  }
 ],
 "metadata": {
  "kernelspec": {
   "display_name": "Python 3",
   "language": "python",
   "name": "python3"
  },
  "language_info": {
   "codemirror_mode": {
    "name": "ipython",
    "version": 3
   },
   "file_extension": ".py",
   "mimetype": "text/x-python",
   "name": "python",
   "nbconvert_exporter": "python",
   "pygments_lexer": "ipython3",
   "version": "3.7.12"
  },
  "papermill": {
   "default_parameters": {},
   "duration": 179.47415,
   "end_time": "2023-01-19T08:43:37.822212",
   "environment_variables": {},
   "exception": null,
   "input_path": "__notebook__.ipynb",
   "output_path": "__notebook__.ipynb",
   "parameters": {},
   "start_time": "2023-01-19T08:40:38.348062",
   "version": "2.3.4"
  }
 },
 "nbformat": 4,
 "nbformat_minor": 5
}
